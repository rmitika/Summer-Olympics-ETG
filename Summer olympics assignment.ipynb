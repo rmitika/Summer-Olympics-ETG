{
 "cells": [
  {
   "cell_type": "markdown",
   "id": "15e87135",
   "metadata": {},
   "source": [
    "# Summer Olympics Data Analysis Assignment"
   ]
  },
  {
   "cell_type": "code",
   "execution_count": 1,
   "id": "71eb8b54",
   "metadata": {},
   "outputs": [],
   "source": [
    "import pandas as pd \n",
    "import numpy as np\n",
    "import matplotlib.pyplot as plt"
   ]
  },
  {
   "cell_type": "code",
   "execution_count": 2,
   "id": "e396cd20",
   "metadata": {},
   "outputs": [],
   "source": [
    "df = pd.read_csv(\"summer.csv\")"
   ]
  },
  {
   "cell_type": "code",
   "execution_count": 3,
   "id": "abce02bd",
   "metadata": {},
   "outputs": [
    {
     "data": {
      "text/html": [
       "<div>\n",
       "<style scoped>\n",
       "    .dataframe tbody tr th:only-of-type {\n",
       "        vertical-align: middle;\n",
       "    }\n",
       "\n",
       "    .dataframe tbody tr th {\n",
       "        vertical-align: top;\n",
       "    }\n",
       "\n",
       "    .dataframe thead th {\n",
       "        text-align: right;\n",
       "    }\n",
       "</style>\n",
       "<table border=\"1\" class=\"dataframe\">\n",
       "  <thead>\n",
       "    <tr style=\"text-align: right;\">\n",
       "      <th></th>\n",
       "      <th>Year</th>\n",
       "      <th>City</th>\n",
       "      <th>Sport</th>\n",
       "      <th>Discipline</th>\n",
       "      <th>Athlete</th>\n",
       "      <th>Country</th>\n",
       "      <th>Gender</th>\n",
       "      <th>Event</th>\n",
       "      <th>Medal</th>\n",
       "    </tr>\n",
       "  </thead>\n",
       "  <tbody>\n",
       "    <tr>\n",
       "      <th>0</th>\n",
       "      <td>1896</td>\n",
       "      <td>Athens</td>\n",
       "      <td>Aquatics</td>\n",
       "      <td>Swimming</td>\n",
       "      <td>HAJOS, Alfred</td>\n",
       "      <td>HUN</td>\n",
       "      <td>Men</td>\n",
       "      <td>100M Freestyle</td>\n",
       "      <td>Gold</td>\n",
       "    </tr>\n",
       "    <tr>\n",
       "      <th>1</th>\n",
       "      <td>1896</td>\n",
       "      <td>Athens</td>\n",
       "      <td>Aquatics</td>\n",
       "      <td>Swimming</td>\n",
       "      <td>HERSCHMANN, Otto</td>\n",
       "      <td>AUT</td>\n",
       "      <td>Men</td>\n",
       "      <td>100M Freestyle</td>\n",
       "      <td>Silver</td>\n",
       "    </tr>\n",
       "    <tr>\n",
       "      <th>2</th>\n",
       "      <td>1896</td>\n",
       "      <td>Athens</td>\n",
       "      <td>Aquatics</td>\n",
       "      <td>Swimming</td>\n",
       "      <td>DRIVAS, Dimitrios</td>\n",
       "      <td>GRE</td>\n",
       "      <td>Men</td>\n",
       "      <td>100M Freestyle For Sailors</td>\n",
       "      <td>Bronze</td>\n",
       "    </tr>\n",
       "    <tr>\n",
       "      <th>3</th>\n",
       "      <td>1896</td>\n",
       "      <td>Athens</td>\n",
       "      <td>Aquatics</td>\n",
       "      <td>Swimming</td>\n",
       "      <td>MALOKINIS, Ioannis</td>\n",
       "      <td>GRE</td>\n",
       "      <td>Men</td>\n",
       "      <td>100M Freestyle For Sailors</td>\n",
       "      <td>Gold</td>\n",
       "    </tr>\n",
       "    <tr>\n",
       "      <th>4</th>\n",
       "      <td>1896</td>\n",
       "      <td>Athens</td>\n",
       "      <td>Aquatics</td>\n",
       "      <td>Swimming</td>\n",
       "      <td>CHASAPIS, Spiridon</td>\n",
       "      <td>GRE</td>\n",
       "      <td>Men</td>\n",
       "      <td>100M Freestyle For Sailors</td>\n",
       "      <td>Silver</td>\n",
       "    </tr>\n",
       "    <tr>\n",
       "      <th>...</th>\n",
       "      <td>...</td>\n",
       "      <td>...</td>\n",
       "      <td>...</td>\n",
       "      <td>...</td>\n",
       "      <td>...</td>\n",
       "      <td>...</td>\n",
       "      <td>...</td>\n",
       "      <td>...</td>\n",
       "      <td>...</td>\n",
       "    </tr>\n",
       "    <tr>\n",
       "      <th>31160</th>\n",
       "      <td>2012</td>\n",
       "      <td>London</td>\n",
       "      <td>Wrestling</td>\n",
       "      <td>Wrestling Freestyle</td>\n",
       "      <td>JANIKOWSKI, Damian</td>\n",
       "      <td>POL</td>\n",
       "      <td>Men</td>\n",
       "      <td>Wg 84 KG</td>\n",
       "      <td>Bronze</td>\n",
       "    </tr>\n",
       "    <tr>\n",
       "      <th>31161</th>\n",
       "      <td>2012</td>\n",
       "      <td>London</td>\n",
       "      <td>Wrestling</td>\n",
       "      <td>Wrestling Freestyle</td>\n",
       "      <td>REZAEI, Ghasem Gholamreza</td>\n",
       "      <td>IRI</td>\n",
       "      <td>Men</td>\n",
       "      <td>Wg 96 KG</td>\n",
       "      <td>Gold</td>\n",
       "    </tr>\n",
       "    <tr>\n",
       "      <th>31162</th>\n",
       "      <td>2012</td>\n",
       "      <td>London</td>\n",
       "      <td>Wrestling</td>\n",
       "      <td>Wrestling Freestyle</td>\n",
       "      <td>TOTROV, Rustam</td>\n",
       "      <td>RUS</td>\n",
       "      <td>Men</td>\n",
       "      <td>Wg 96 KG</td>\n",
       "      <td>Silver</td>\n",
       "    </tr>\n",
       "    <tr>\n",
       "      <th>31163</th>\n",
       "      <td>2012</td>\n",
       "      <td>London</td>\n",
       "      <td>Wrestling</td>\n",
       "      <td>Wrestling Freestyle</td>\n",
       "      <td>ALEKSANYAN, Artur</td>\n",
       "      <td>ARM</td>\n",
       "      <td>Men</td>\n",
       "      <td>Wg 96 KG</td>\n",
       "      <td>Bronze</td>\n",
       "    </tr>\n",
       "    <tr>\n",
       "      <th>31164</th>\n",
       "      <td>2012</td>\n",
       "      <td>London</td>\n",
       "      <td>Wrestling</td>\n",
       "      <td>Wrestling Freestyle</td>\n",
       "      <td>LIDBERG, Jimmy</td>\n",
       "      <td>SWE</td>\n",
       "      <td>Men</td>\n",
       "      <td>Wg 96 KG</td>\n",
       "      <td>Bronze</td>\n",
       "    </tr>\n",
       "  </tbody>\n",
       "</table>\n",
       "<p>31165 rows × 9 columns</p>\n",
       "</div>"
      ],
      "text/plain": [
       "       Year    City      Sport           Discipline  \\\n",
       "0      1896  Athens   Aquatics             Swimming   \n",
       "1      1896  Athens   Aquatics             Swimming   \n",
       "2      1896  Athens   Aquatics             Swimming   \n",
       "3      1896  Athens   Aquatics             Swimming   \n",
       "4      1896  Athens   Aquatics             Swimming   \n",
       "...     ...     ...        ...                  ...   \n",
       "31160  2012  London  Wrestling  Wrestling Freestyle   \n",
       "31161  2012  London  Wrestling  Wrestling Freestyle   \n",
       "31162  2012  London  Wrestling  Wrestling Freestyle   \n",
       "31163  2012  London  Wrestling  Wrestling Freestyle   \n",
       "31164  2012  London  Wrestling  Wrestling Freestyle   \n",
       "\n",
       "                         Athlete Country Gender                       Event  \\\n",
       "0                  HAJOS, Alfred     HUN    Men              100M Freestyle   \n",
       "1               HERSCHMANN, Otto     AUT    Men              100M Freestyle   \n",
       "2              DRIVAS, Dimitrios     GRE    Men  100M Freestyle For Sailors   \n",
       "3             MALOKINIS, Ioannis     GRE    Men  100M Freestyle For Sailors   \n",
       "4             CHASAPIS, Spiridon     GRE    Men  100M Freestyle For Sailors   \n",
       "...                          ...     ...    ...                         ...   \n",
       "31160         JANIKOWSKI, Damian     POL    Men                    Wg 84 KG   \n",
       "31161  REZAEI, Ghasem Gholamreza     IRI    Men                    Wg 96 KG   \n",
       "31162             TOTROV, Rustam     RUS    Men                    Wg 96 KG   \n",
       "31163          ALEKSANYAN, Artur     ARM    Men                    Wg 96 KG   \n",
       "31164             LIDBERG, Jimmy     SWE    Men                    Wg 96 KG   \n",
       "\n",
       "        Medal  \n",
       "0        Gold  \n",
       "1      Silver  \n",
       "2      Bronze  \n",
       "3        Gold  \n",
       "4      Silver  \n",
       "...       ...  \n",
       "31160  Bronze  \n",
       "31161    Gold  \n",
       "31162  Silver  \n",
       "31163  Bronze  \n",
       "31164  Bronze  \n",
       "\n",
       "[31165 rows x 9 columns]"
      ]
     },
     "execution_count": 3,
     "metadata": {},
     "output_type": "execute_result"
    }
   ],
   "source": [
    "df"
   ]
  },
  {
   "cell_type": "markdown",
   "id": "75a6fca4",
   "metadata": {},
   "source": [
    "# 1 In how many cities Summer Olympics is held so far?"
   ]
  },
  {
   "cell_type": "code",
   "execution_count": 4,
   "id": "cb714339",
   "metadata": {},
   "outputs": [
    {
     "data": {
      "text/plain": [
       "array(['Athens', 'Paris', 'St Louis', 'London', 'Stockholm', 'Antwerp',\n",
       "       'Amsterdam', 'Los Angeles', 'Berlin', 'Helsinki',\n",
       "       'Melbourne / Stockholm', 'Rome', 'Tokyo', 'Mexico', 'Munich',\n",
       "       'Montreal', 'Moscow', 'Seoul', 'Barcelona', 'Atlanta', 'Sydney',\n",
       "       'Beijing'], dtype=object)"
      ]
     },
     "execution_count": 4,
     "metadata": {},
     "output_type": "execute_result"
    }
   ],
   "source": [
    "df['City'].unique()"
   ]
  },
  {
   "cell_type": "code",
   "execution_count": 5,
   "id": "297b6a34",
   "metadata": {},
   "outputs": [
    {
     "data": {
      "text/plain": [
       "22"
      ]
     },
     "execution_count": 5,
     "metadata": {},
     "output_type": "execute_result"
    }
   ],
   "source": [
    "len(df['City'].unique())"
   ]
  },
  {
   "cell_type": "markdown",
   "id": "eac290c9",
   "metadata": {},
   "source": [
    "# 2. Which sport is having most number of Gold Medals so far? (Top 5)"
   ]
  },
  {
   "cell_type": "code",
   "execution_count": 6,
   "id": "eb521974",
   "metadata": {},
   "outputs": [
    {
     "data": {
      "text/plain": [
       "Sport\n",
       "Aquatics      1421\n",
       "Athletics     1215\n",
       "Rowing         890\n",
       "Gymnastics     820\n",
       "Fencing        552\n",
       "Name: Medal, dtype: int64"
      ]
     },
     "execution_count": 6,
     "metadata": {},
     "output_type": "execute_result"
    }
   ],
   "source": [
    "most_gold_medal = df[df.Medal == 'Gold'].groupby(['Sport']).Medal.size().sort_values(ascending=False).head()\n",
    "most_gold_medal"
   ]
  },
  {
   "cell_type": "code",
   "execution_count": 7,
   "id": "279593ca",
   "metadata": {},
   "outputs": [
    {
     "data": {
      "text/plain": [
       "<AxesSubplot:xlabel='Sport'>"
      ]
     },
     "execution_count": 7,
     "metadata": {},
     "output_type": "execute_result"
    },
    {
     "data": {
      "image/png": "[encoded data removed]",
      "text/plain": [
       "<Figure size 360x360 with 1 Axes>"
      ]
     },
     "metadata": {
      "needs_background": "light"
     },
     "output_type": "display_data"
    }
   ],
   "source": [
    "most_gold_medal.plot(x = 'x', y = 'freq', kind = 'bar', figsize = (5,5))"
   ]
  },
  {
   "cell_type": "markdown",
   "id": "468663b2",
   "metadata": {},
   "source": [
    "# 3. Which sport is having most number of medals so far? (Top 5)"
   ]
  },
  {
   "cell_type": "code",
   "execution_count": 8,
   "id": "ddd176fa",
   "metadata": {},
   "outputs": [
    {
     "data": {
      "text/plain": [
       "Aquatics      4170\n",
       "Athletics     3638\n",
       "Rowing        2667\n",
       "Gymnastics    2307\n",
       "Fencing       1613\n",
       "Name: Sport, dtype: int64"
      ]
     },
     "execution_count": 8,
     "metadata": {},
     "output_type": "execute_result"
    }
   ],
   "source": [
    "top_5_sport = df.Sport.value_counts().sort_values(ascending=False).head()\n",
    "top_5_sport"
   ]
  },
  {
   "cell_type": "code",
   "execution_count": 9,
   "id": "7dc08b64",
   "metadata": {},
   "outputs": [],
   "source": [
    "import seaborn as sns\n",
    "\n"
   ]
  },
  {
   "cell_type": "code",
   "execution_count": 10,
   "id": "13404b55",
   "metadata": {},
   "outputs": [
    {
     "data": {
      "text/plain": [
       "Text(0, 0.5, 'No. of Medals')"
      ]
     },
     "execution_count": 10,
     "metadata": {},
     "output_type": "execute_result"
    },
    {
     "data": {
      "image/png": "[encoded data removed]",
      "text/plain": [
       "<Figure size 1080x360 with 1 Axes>"
      ]
     },
     "metadata": {
      "needs_background": "light"
     },
     "output_type": "display_data"
    }
   ],
   "source": [
    "plt.figure(figsize=(15, 5))\n",
    "highest_sport = df['Sport'].value_counts().head().index\n",
    "sns.countplot(data=df, x='Sport', hue = 'Medal', order=highest_sport, \n",
    "              palette=sns.color_palette(\"YlGnBu\", 3))\n",
    "plt.xticks(rotation=90)\n",
    "plt.title('Sports with most number of Medals')\n",
    "plt.xlabel('Sport', fontweight='bold')\n",
    "plt.ylabel('No. of Medals', fontweight='bold')"
   ]
  },
  {
   "cell_type": "markdown",
   "id": "6adcb770",
   "metadata": {},
   "source": [
    "# 4. Which player has won most number of medals? (Top 5)"
   ]
  },
  {
   "cell_type": "code",
   "execution_count": 11,
   "id": "aeeb4816",
   "metadata": {},
   "outputs": [
    {
     "data": {
      "text/plain": [
       "PHELPS, Michael       22\n",
       "LATYNINA, Larisa      18\n",
       "ANDRIANOV, Nikolay    15\n",
       "SHAKHLIN, Boris       13\n",
       "ONO, Takashi          13\n",
       "Name: Athlete, dtype: int64"
      ]
     },
     "execution_count": 11,
     "metadata": {},
     "output_type": "execute_result"
    }
   ],
   "source": [
    "most_medal = df.Athlete.value_counts().sort_values(ascending=False)\n",
    "most_medal.head()"
   ]
  },
  {
   "cell_type": "code",
   "execution_count": 12,
   "id": "656fafdc",
   "metadata": {},
   "outputs": [
    {
     "data": {
      "text/plain": [
       "Text(0, 0.5, 'No. of Medals')"
      ]
     },
     "execution_count": 12,
     "metadata": {},
     "output_type": "execute_result"
    },
    {
     "data": {
      "image/png": "[encoded data removed]",
      "text/plain": [
       "<Figure size 1080x360 with 1 Axes>"
      ]
     },
     "metadata": {
      "needs_background": "light"
     },
     "output_type": "display_data"
    }
   ],
   "source": [
    "plt.figure(figsize=(15, 5))\n",
    "highest_sport = df['Athlete'].value_counts().head().index\n",
    "sns.countplot(data=df, x='Athlete', hue = 'Medal', order=highest_sport, \n",
    "              palette=sns.color_palette(\"YlGnBu\", 3))\n",
    "plt.xticks(rotation=90)\n",
    "plt.title('player with most awarded Medals')\n",
    "plt.xlabel('Player', fontweight='bold')\n",
    "plt.ylabel('No. of Medals', fontweight='bold')"
   ]
  },
  {
   "cell_type": "markdown",
   "id": "cdc71cc3",
   "metadata": {},
   "source": [
    "# 5. Which player has won most number Gold Medals of medals? (Top 5)"
   ]
  },
  {
   "cell_type": "code",
   "execution_count": 13,
   "id": "7f0cc083",
   "metadata": {},
   "outputs": [
    {
     "data": {
      "text/plain": [
       "Athlete\n",
       "PHELPS, Michael     18\n",
       "LEWIS, Carl          9\n",
       "NURMI, Paavo         9\n",
       "SPITZ, Mark          9\n",
       "LATYNINA, Larisa     9\n",
       "Name: Medal, dtype: int64"
      ]
     },
     "execution_count": 13,
     "metadata": {},
     "output_type": "execute_result"
    }
   ],
   "source": [
    "goldAthlete = df[df.Medal == 'Gold'].groupby(['Athlete']).Medal.size().sort_values(ascending=False).head()\n",
    "goldAthlete"
   ]
  },
  {
   "cell_type": "code",
   "execution_count": 14,
   "id": "3adbccad",
   "metadata": {},
   "outputs": [
    {
     "data": {
      "text/plain": [
       "<AxesSubplot:xlabel='Athlete'>"
      ]
     },
     "execution_count": 14,
     "metadata": {},
     "output_type": "execute_result"
    },
    {
     "data": {
      "image/png": "[encoded data removed]",
      "text/plain": [
       "<Figure size 360x360 with 1 Axes>"
      ]
     },
     "metadata": {
      "needs_background": "light"
     },
     "output_type": "display_data"
    }
   ],
   "source": [
    "goldAthlete.plot(x = 'x', y = 'freq', kind = 'bar', figsize = (5,5))"
   ]
  },
  {
   "cell_type": "markdown",
   "id": "1a567a59",
   "metadata": {},
   "source": [
    "# 6. In which year India won first Gold Medal in Summer Olympics?\n"
   ]
  },
  {
   "cell_type": "code",
   "execution_count": 15,
   "id": "58361bf4",
   "metadata": {},
   "outputs": [
    {
     "name": "stderr",
     "output_type": "stream",
     "text": [
      "<ipython-input-15-2ef3426279b9>:1: UserWarning: Boolean Series key will be reindexed to match DataFrame index.\n",
      "  year = df[df.Country == 'IND'][df.Medal == 'Gold']['Year'].head(1)\n"
     ]
    },
    {
     "name": "stdout",
     "output_type": "stream",
     "text": [
      " India won first Gold Medal in Summer Olympics is =  1928\n"
     ]
    }
   ],
   "source": [
    "year = df[df.Country == 'IND'][df.Medal == 'Gold']['Year'].head(1)\n",
    "print (\" India won first Gold Medal in Summer Olympics is = \",year.to_string(index =False))"
   ]
  },
  {
   "cell_type": "markdown",
   "id": "fb67c9eb",
   "metadata": {},
   "source": [
    "# 7. Which event is most popular in terms on number of players? (Top 5)"
   ]
  },
  {
   "cell_type": "code",
   "execution_count": 16,
   "id": "c7e3291d",
   "metadata": {},
   "outputs": [
    {
     "data": {
      "text/plain": [
       "Football            1497\n",
       "Hockey              1422\n",
       "Team Competition    1147\n",
       "Basketball          1012\n",
       "Handball             973\n",
       "Name: Event, dtype: int64"
      ]
     },
     "execution_count": 16,
     "metadata": {},
     "output_type": "execute_result"
    }
   ],
   "source": [
    "popular_event = df.Event.value_counts().head()\n",
    "popular_event"
   ]
  },
  {
   "cell_type": "code",
   "execution_count": 17,
   "id": "8328c017",
   "metadata": {},
   "outputs": [
    {
     "data": {
      "text/plain": [
       "<AxesSubplot:>"
      ]
     },
     "execution_count": 17,
     "metadata": {},
     "output_type": "execute_result"
    },
    {
     "data": {
      "image/png": "[encoded data removed]",
      "text/plain": [
       "<Figure size 360x360 with 1 Axes>"
      ]
     },
     "metadata": {
      "needs_background": "light"
     },
     "output_type": "display_data"
    }
   ],
   "source": [
    "popular_event.plot(x = 'x', y = 'freq', kind = 'bar', figsize = (5,5))"
   ]
  },
  {
   "cell_type": "markdown",
   "id": "7bee74a3",
   "metadata": {},
   "source": [
    "# 8. Which sport is having most female Gold Medalists? (Top 5)"
   ]
  },
  {
   "cell_type": "code",
   "execution_count": 18,
   "id": "5d31ebf7",
   "metadata": {},
   "outputs": [
    {
     "name": "stderr",
     "output_type": "stream",
     "text": [
      "<ipython-input-18-25815c188f73>:1: UserWarning: Boolean Series key will be reindexed to match DataFrame index.\n",
      "  women_gold_medal = df[df.Gender == 'Women'][df.Medal=='Gold'].groupby(['Sport']).Medal.size().sort_values(ascending=False).head()\n"
     ]
    },
    {
     "data": {
      "text/plain": [
       "Sport\n",
       "Aquatics      589\n",
       "Athletics     389\n",
       "Gymnastics    268\n",
       "Rowing        217\n",
       "Volleyball    166\n",
       "Name: Medal, dtype: int64"
      ]
     },
     "execution_count": 18,
     "metadata": {},
     "output_type": "execute_result"
    }
   ],
   "source": [
    "women_gold_medal = df[df.Gender == 'Women'][df.Medal=='Gold'].groupby(['Sport']).Medal.size().sort_values(ascending=False).head()\n",
    "women_gold_medal"
   ]
  },
  {
   "cell_type": "code",
   "execution_count": 19,
   "id": "e4e0c2e5",
   "metadata": {},
   "outputs": [
    {
     "data": {
      "text/plain": [
       "<AxesSubplot:xlabel='Sport'>"
      ]
     },
     "execution_count": 19,
     "metadata": {},
     "output_type": "execute_result"
    },
    {
     "data": {
      "image/png": "[encoded data removed]",
      "text/plain": [
       "<Figure size 360x360 with 1 Axes>"
      ]
     },
     "metadata": {
      "needs_background": "light"
     },
     "output_type": "display_data"
    }
   ],
   "source": [
    "women_gold_medal.plot(x = 'x', y = 'freq', kind = 'bar', figsize = (5,5))"
   ]
  },
  {
   "cell_type": "code",
   "execution_count": null,
   "id": "aa9d307d",
   "metadata": {},
   "outputs": [],
   "source": []
  }
 ],
 "metadata": {
  "kernelspec": {
   "display_name": "Python 3",
   "language": "python",
   "name": "python3"
  },
  "language_info": {
   "codemirror_mode": {
    "name": "ipython",
    "version": 3
   },
   "file_extension": ".py",
   "mimetype": "text/x-python",
   "name": "python",
   "nbconvert_exporter": "python",
   "pygments_lexer": "ipython3",
   "version": "3.8.8"
  }
 },
 "nbformat": 4,
 "nbformat_minor": 5
}
